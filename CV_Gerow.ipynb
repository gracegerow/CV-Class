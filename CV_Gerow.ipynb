{
 "cells": [
  {
   "cell_type": "markdown",
   "id": "1d0307ca-0bf4-4b18-a0e9-13eefa4b0b97",
   "metadata": {
    "slideshow": {
     "slide_type": "slide"
    },
    "user_expressions": []
   },
   "source": [
    "## Grace Gerow"
   ]
  },
  {
   "cell_type": "markdown",
   "id": "7b3b7f91",
   "metadata": {
    "slideshow": {
     "slide_type": "slide"
    },
    "user_expressions": []
   },
   "source": [
    "### EDUCATION"
   ]
  },
  {
   "cell_type": "markdown",
   "id": "a2c45038-9c62-4bda-b0a8-048df4ae887f",
   "metadata": {
    "slideshow": {
     "slide_type": "fragment"
    },
    "user_expressions": []
   },
   "source": [
    "#### Southern Methodist University\tDallas, TX\n",
    "Bachelor of Science, Major in Economics with Financial Applications, Minor in Business\tDecember 2022\n",
    "GPA: 3.73 / 4.0\n",
    "#### Lehigh University\tAug 2017 - Dec 2019\n",
    "Majors in Finance and Marketing, Minor in Spanish"
   ]
  },
  {
   "cell_type": "markdown",
   "id": "70923cf4",
   "metadata": {
    "slideshow": {
     "slide_type": "slide"
    },
    "user_expressions": []
   },
   "source": [
    "### EXPERIENCE"
   ]
  },
  {
   "cell_type": "markdown",
   "id": "69de79f0",
   "metadata": {
    "slideshow": {
     "slide_type": "slide"
    },
    "user_expressions": []
   },
   "source": [
    "#### Dickies, a VF Company, \tDallas, TX"
   ]
  },
  {
   "cell_type": "markdown",
   "id": "fd8ec068-de96-40c6-b93c-8c4f88ee7ade",
   "metadata": {
    "slideshow": {
     "slide_type": "fragment"
    },
    "user_expressions": []
   },
   "source": [
    "Financial Analyst Intern\tJune 2022 – August 2022\t\n",
    "1. Optimized SG&A forecast analysis through creation of an automated, versatile, and organized Excel model; add details here \n",
    "2. \tRaised units sold and order value through creation of a discount Excel tool for seasonal collection sales; presented to executive team leads across all business functions\n",
    "3. \tAnalyzed and summarized key findings in financial documents presented at Dickies America Townhall; drafted high-level Q2 financial updates to share with Dickies’ investors"
   ]
  },
  {
   "cell_type": "markdown",
   "id": "a55dfd0e",
   "metadata": {
    "slideshow": {
     "slide_type": "slide"
    },
    "user_expressions": []
   },
   "source": [
    "#### Sunwest Communications\tMarch 2020 – Dec 2020"
   ]
  },
  {
   "cell_type": "markdown",
   "id": "082df0c1-262d-4b70-9fdd-eb543c94b961",
   "metadata": {
    "slideshow": {
     "slide_type": "fragment"
    },
    "user_expressions": []
   },
   "source": [
    "Research Assistant \t\n",
    "1. \tSupported public relation projects through editing press releases, creating media lists, and identifying optimal news outlets\n",
    "2. \tEvaluated global non-profit boards for a major client and presented the top three options\n",
    "3. \tServed on Diversity, Equity, and Inclusivity team through suggesting inclusivity measures and diversity tactics, proposing a mentor program, and PowerPoint development"
   ]
  },
  {
   "cell_type": "markdown",
   "id": "13101cd6",
   "metadata": {
    "slideshow": {
     "slide_type": "slide"
    },
    "user_expressions": []
   },
   "source": [
    "#### Hope International Adoption\tJune 2016 – Aug 2019"
   ]
  },
  {
   "cell_type": "markdown",
   "id": "bec008db-d695-4db3-bf3b-0fe1830eb1f4",
   "metadata": {
    "slideshow": {
     "slide_type": "fragment"
    },
    "user_expressions": []
   },
   "source": [
    "Marketing Intern \t\n",
    "1. \tLed event planning for “Making Miracles Annual Fundraiser Gala” which included organizing the venue, decorating, and seeking donations; Received 90 donations with an estimated value of $1,500\n",
    "2. \tExecuted Google AdWords Account Management & Implementation project by creating attractive ads targeting potential supporters, corporate sponsors, and new clients"
   ]
  },
  {
   "cell_type": "markdown",
   "id": "7629e170",
   "metadata": {
    "slideshow": {
     "slide_type": "slide"
    },
    "user_expressions": []
   },
   "source": [
    "### LEADERSHIP & COMMUNITY SERVICE"
   ]
  },
  {
   "cell_type": "markdown",
   "id": "4600ed95",
   "metadata": {
    "slideshow": {
     "slide_type": "slide"
    },
    "user_expressions": []
   },
   "source": [
    "#### Pi Beta Phi Executive Council \tBethlehem, PA"
   ]
  },
  {
   "cell_type": "markdown",
   "id": "cb30a3b3-aebb-4f31-88d7-5f816c7db6eb",
   "metadata": {
    "slideshow": {
     "slide_type": "fragment"
    },
    "user_expressions": []
   },
   "source": [
    "VP Event Planning \tAugust 2018 – December 2019\n",
    "1.\tElected as VP Event Planner; responsibilities include idea generation, procurement of all materials, execution of plants, tracking budgets, and overseeing outside vendors and contracts for all events\n",
    "2. \tPlanned and executed several “date parties” which included contracting restaurants and bars, buses, photographers, DJs, security, and entertainment"
   ]
  },
  {
   "cell_type": "markdown",
   "id": "cfc269c4",
   "metadata": {
    "slideshow": {
     "slide_type": "slide"
    },
    "user_expressions": []
   },
   "source": [
    "### ADDITIONAL SKILLS"
   ]
  },
  {
   "cell_type": "markdown",
   "id": "744f88d6-eb74-4c3d-9df2-e6b1985fc758",
   "metadata": {
    "slideshow": {
     "slide_type": "fragment"
    },
    "user_expressions": []
   },
   "source": [
    "Computer: Microsoft Word, PowerPoint, Excel, and Adobe Photoshop\n",
    "Activities: Treasurer of SPECTRUM"
   ]
  },
  {
   "cell_type": "code",
   "execution_count": null,
   "id": "290b5f25-307f-492f-919c-dc1d6d1454e1",
   "metadata": {
    "slideshow": {
     "slide_type": "skip"
    }
   },
   "outputs": [],
   "source": []
  }
 ],
 "metadata": {
  "celltoolbar": "Slideshow",
  "kernelspec": {
   "display_name": "Python 3 (ipykernel)",
   "language": "python",
   "name": "python3"
  },
  "language_info": {
   "codemirror_mode": {
    "name": "ipython",
    "version": 3
   },
   "file_extension": ".py",
   "mimetype": "text/x-python",
   "name": "python",
   "nbconvert_exporter": "python",
   "pygments_lexer": "ipython3",
   "version": "3.9.13"
  }
 },
 "nbformat": 4,
 "nbformat_minor": 5
}
